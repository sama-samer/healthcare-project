{
 "cells": [
  {
   "cell_type": "code",
   "execution_count": 1,
   "metadata": {
    "execution": {
     "iopub.execute_input": "2025-03-08T22:08:24.902191Z",
     "iopub.status.busy": "2025-03-08T22:08:24.901647Z",
     "iopub.status.idle": "2025-03-08T22:08:25.844077Z",
     "shell.execute_reply": "2025-03-08T22:08:25.843102Z",
     "shell.execute_reply.started": "2025-03-08T22:08:24.902154Z"
    },
    "trusted": true
   },
   "outputs": [],
   "source": [
    "import pandas as pd\n",
    "from sklearn.preprocessing import LabelEncoder\n",
    "from sklearn.model_selection import train_test_split\n",
    "from sklearn.svm import SVC\n",
    "from sklearn.metrics import accuracy_score\n",
    "import numpy as np\n",
    "import pandas as pd\n",
    "from sklearn.model_selection import train_test_split, cross_val_score, cross_val_predict\n",
    "from sklearn.impute import SimpleImputer\n",
    "from sklearn.tree import DecisionTreeClassifier\n",
    "from sklearn.metrics import classification_report\n"
   ]
  },
  {
   "cell_type": "code",
   "execution_count": 4,
   "metadata": {
    "execution": {
     "iopub.execute_input": "2025-03-08T22:08:25.846183Z",
     "iopub.status.busy": "2025-03-08T22:08:25.845745Z",
     "iopub.status.idle": "2025-03-08T22:08:25.872865Z",
     "shell.execute_reply": "2025-03-08T22:08:25.872054Z",
     "shell.execute_reply.started": "2025-03-08T22:08:25.846155Z"
    },
    "trusted": true
   },
   "outputs": [
    {
     "data": {
      "application/vnd.jupyter.widget-view+json": {
       "model_id": "4fce6f8a93f945859b45e39128c7324f",
       "version_major": 2,
       "version_minor": 0
      },
      "text/plain": [
       "README.md:   0%|          | 0.00/31.0 [00:00<?, ?B/s]"
      ]
     },
     "metadata": {},
     "output_type": "display_data"
    },
    {
     "name": "stderr",
     "output_type": "stream",
     "text": [
      "e:\\setups\\anaconda\\Lib\\site-packages\\huggingface_hub\\file_download.py:143: UserWarning: `huggingface_hub` cache-system uses symlinks by default to efficiently store duplicated files but your machine does not support them in C:\\Users\\asus\\.cache\\huggingface\\hub\\datasets--marianeft--heart-diease-dataset. Caching files will still work but in a degraded version that might require more space on your disk. This warning can be disabled by setting the `HF_HUB_DISABLE_SYMLINKS_WARNING` environment variable. For more details, see https://huggingface.co/docs/huggingface_hub/how-to-cache#limitations.\n",
      "To support symlinks on Windows, you either need to activate Developer Mode or to run Python as an administrator. In order to activate developer mode, see this article: https://docs.microsoft.com/en-us/windows/apps/get-started/enable-your-device-for-development\n",
      "  warnings.warn(message)\n"
     ]
    },
    {
     "data": {
      "application/vnd.jupyter.widget-view+json": {
       "model_id": "a36c9e49a49e4710ad86ee3d0167f214",
       "version_major": 2,
       "version_minor": 0
      },
      "text/plain": [
       "heart.csv: 0.00B [00:00, ?B/s]"
      ]
     },
     "metadata": {},
     "output_type": "display_data"
    },
    {
     "data": {
      "application/vnd.jupyter.widget-view+json": {
       "model_id": "95fd16aa09a444208ceb9d813bb16d43",
       "version_major": 2,
       "version_minor": 0
      },
      "text/plain": [
       "Generating train split:   0%|          | 0/1025 [00:00<?, ? examples/s]"
      ]
     },
     "metadata": {},
     "output_type": "display_data"
    },
    {
     "name": "stdout",
     "output_type": "stream",
     "text": [
      "DatasetDict({\n",
      "    train: Dataset({\n",
      "        features: ['age', 'sex', 'cp', 'trestbps', 'chol', 'fbs', 'restecg', 'thalach', 'exang', 'oldpeak', 'slope', 'ca', 'thal', 'target'],\n",
      "        num_rows: 1025\n",
      "    })\n",
      "})\n"
     ]
    }
   ],
   "source": [
    "# Load the dataset\n",
    "from datasets import load_dataset\n",
    "\n",
    "# Login using e.g. `huggingface-cli login` to access this dataset\n",
    "data = load_dataset(\"marianeft/heart-diease-dataset\")\n",
    "print(data)"
   ]
  },
  {
   "cell_type": "code",
   "execution_count": 6,
   "metadata": {},
   "outputs": [],
   "source": [
    "from datasets import load_dataset\n",
    "\n",
    "# Load the dataset\n",
    "dataset = load_dataset(\"marianeft/heart-diease-dataset\")\n",
    "\n",
    "# Convert the 'train' split to a DataFrame\n",
    "df = dataset['train'].to_pandas()\n"
   ]
  },
  {
   "cell_type": "code",
   "execution_count": 7,
   "metadata": {},
   "outputs": [
    {
     "name": "stdout",
     "output_type": "stream",
     "text": [
      "age           int64\n",
      "sex           int64\n",
      "cp            int64\n",
      "trestbps      int64\n",
      "chol          int64\n",
      "fbs           int64\n",
      "restecg       int64\n",
      "thalach       int64\n",
      "exang         int64\n",
      "oldpeak     float64\n",
      "slope         int64\n",
      "ca            int64\n",
      "thal          int64\n",
      "target        int64\n",
      "dtype: object\n"
     ]
    }
   ],
   "source": [
    "print(df.dtypes)\n"
   ]
  },
  {
   "cell_type": "code",
   "execution_count": 8,
   "metadata": {
    "execution": {
     "iopub.execute_input": "2025-03-08T22:08:25.874222Z",
     "iopub.status.busy": "2025-03-08T22:08:25.873919Z",
     "iopub.status.idle": "2025-03-08T22:08:25.895748Z",
     "shell.execute_reply": "2025-03-08T22:08:25.894858Z",
     "shell.execute_reply.started": "2025-03-08T22:08:25.874195Z"
    },
    "trusted": true
   },
   "outputs": [],
   "source": [
    "\n",
    "le = LabelEncoder()\n",
    "\n",
    "columns_to_encode = ['sex', 'cp', 'fbs', 'restecg', 'exang', 'slope', 'thal']\n",
    "\n",
    "for col in columns_to_encode:\n",
    "    if df[col].dtype == 'object' or df[col].dtype.name == 'category':\n",
    "        df[col] = le.fit_transform(df[col])\n"
   ]
  },
  {
   "cell_type": "code",
   "execution_count": 10,
   "metadata": {
    "execution": {
     "iopub.execute_input": "2025-03-08T22:08:25.898970Z",
     "iopub.status.busy": "2025-03-08T22:08:25.898186Z",
     "iopub.status.idle": "2025-03-08T22:08:25.904624Z",
     "shell.execute_reply": "2025-03-08T22:08:25.903500Z",
     "shell.execute_reply.started": "2025-03-08T22:08:25.898938Z"
    },
    "trusted": true
   },
   "outputs": [],
   "source": [
    "X = df.drop(columns='target')\n",
    "y = df['target']\n",
    "\n",
    "X_train, X_test, y_train, y_test = train_test_split(X, y, test_size=0.2, random_state=42)"
   ]
  },
  {
   "cell_type": "code",
   "execution_count": 11,
   "metadata": {
    "execution": {
     "iopub.execute_input": "2025-03-08T22:08:25.906220Z",
     "iopub.status.busy": "2025-03-08T22:08:25.905831Z",
     "iopub.status.idle": "2025-03-08T22:08:25.974663Z",
     "shell.execute_reply": "2025-03-08T22:08:25.973664Z",
     "shell.execute_reply.started": "2025-03-08T22:08:25.906189Z"
    },
    "trusted": true
   },
   "outputs": [
    {
     "name": "stdout",
     "output_type": "stream",
     "text": [
      "Top 7 Selected Features: ['cp' 'thal' 'ca' 'chol' 'oldpeak' 'age' 'thalach']\n",
      "Cross-Validation Accuracy Scores: [0.98780488 0.9695122  0.98780488 0.98780488 0.93292683]\n",
      "Mean CV Accuracy with Top 7 Features: 0.9732\n",
      "Classification Report on Test Data:\n",
      "              precision    recall  f1-score   support\n",
      "\n",
      "           0       0.97      1.00      0.99       102\n",
      "           1       1.00      0.97      0.99       103\n",
      "\n",
      "    accuracy                           0.99       205\n",
      "   macro avg       0.99      0.99      0.99       205\n",
      "weighted avg       0.99      0.99      0.99       205\n",
      "\n"
     ]
    }
   ],
   "source": [
    "# Split the dataset into training and testing sets\n",
    "X_train, X_test, y_train, y_test = train_test_split(X, y, test_size=0.2, random_state=42)\n",
    "\n",
    "# Handle missing values\n",
    "imputer = SimpleImputer(strategy='mean')\n",
    "X_train = imputer.fit_transform(X_train)\n",
    "X_test = imputer.transform(X_test)\n",
    "\n",
    "# Train a Decision Tree to get feature importance\n",
    "dt = DecisionTreeClassifier(random_state=42)\n",
    "dt.fit(X_train, y_train)\n",
    "\n",
    "# Get feature importance scores\n",
    "feature_importances = dt.feature_importances_\n",
    "\n",
    "# Create a DataFrame to view importance rankings\n",
    "feature_names = X.columns  # Assuming X is a Pandas DataFrame\n",
    "feature_importance_df = pd.DataFrame({'Feature': feature_names, 'Importance': feature_importances})\n",
    "\n",
    "# Sort and select the top 7 features\n",
    "top_features = feature_importance_df.sort_values(by='Importance', ascending=False).head(7)['Feature'].values\n",
    "\n",
    "print(\"Top 7 Selected Features:\", top_features)\n",
    "\n",
    "# Keep only the selected features in training and testing sets\n",
    "X_train_selected = pd.DataFrame(X_train, columns=feature_names)[top_features]\n",
    "X_test_selected = pd.DataFrame(X_test, columns=feature_names)[top_features]\n",
    "\n",
    "# Retrain the model with selected features\n",
    "dt_selected = DecisionTreeClassifier(random_state=42)\n",
    "dt_selected.fit(X_train_selected, y_train)\n",
    "\n",
    "# Evaluate with cross-validation\n",
    "cv_scores = cross_val_score(dt_selected, X_train_selected, y_train, cv=5, scoring='accuracy')\n",
    "print(f\"Cross-Validation Accuracy Scores: {cv_scores}\")\n",
    "print(f\"Mean CV Accuracy with Top 7 Features: {cv_scores.mean():.4f}\")\n",
    "\n",
    "# Predict and print classification report\n",
    "y_pred = dt_selected.predict(X_test_selected)\n",
    "print(\"Classification Report on Test Data:\")\n",
    "print(classification_report(y_test, y_pred))"
   ]
  },
  {
   "cell_type": "code",
   "execution_count": 12,
   "metadata": {
    "execution": {
     "iopub.execute_input": "2025-03-08T22:08:25.976373Z",
     "iopub.status.busy": "2025-03-08T22:08:25.975953Z",
     "iopub.status.idle": "2025-03-08T22:08:25.982496Z",
     "shell.execute_reply": "2025-03-08T22:08:25.981496Z",
     "shell.execute_reply.started": "2025-03-08T22:08:25.976333Z"
    },
    "trusted": true
   },
   "outputs": [],
   "source": [
    "import pickle\n",
    "\n",
    "with open(\"heart_model.pkl\", \"wb\") as file:\n",
    "    pickle.dump(dt_selected, file)"
   ]
  },
  {
   "cell_type": "markdown",
   "metadata": {},
   "source": [
    "**How to use ?**"
   ]
  },
  {
   "cell_type": "code",
   "execution_count": 13,
   "metadata": {
    "execution": {
     "iopub.execute_input": "2025-03-08T22:11:38.794118Z",
     "iopub.status.busy": "2025-03-08T22:11:38.793697Z",
     "iopub.status.idle": "2025-03-08T22:11:38.802724Z",
     "shell.execute_reply": "2025-03-08T22:11:38.801767Z",
     "shell.execute_reply.started": "2025-03-08T22:11:38.794080Z"
    },
    "trusted": true
   },
   "outputs": [
    {
     "name": "stdout",
     "output_type": "stream",
     "text": [
      "Predicted Output: [1]\n"
     ]
    },
    {
     "name": "stderr",
     "output_type": "stream",
     "text": [
      "e:\\setups\\anaconda\\Lib\\site-packages\\sklearn\\base.py:493: UserWarning: X does not have valid feature names, but DecisionTreeClassifier was fitted with feature names\n",
      "  warnings.warn(\n"
     ]
    }
   ],
   "source": [
    "import pickle\n",
    "import numpy as np\n",
    "\n",
    "# ['cp' 'thal' 'ca' 'chol' 'oldpeak' 'age' 'thalach']\n",
    "\"\"\"\n",
    "age:\tAge of the patient (years)\tOlder individuals have a higher risk of heart disease.\n",
    "cp (Chest Pain Type):\t0 = Typical Angina, 1 = Atypical Angina, 2 = Non-anginal Pain, 3 = Asymptomatic\tCertain types of chest pain are strong indicators of heart problems.\n",
    "chol (Serum Cholesterol):\tCholesterol level in mg/dL\tHigh cholesterol can lead to plaque buildup in arteries, increasing heart disease risk.\n",
    "thalach (Maximum Heart Rate Achieved):\tMaximum recorded heart rate during stress testing\tA lower max heart rate could indicate heart disease.\n",
    "oldpeak (ST Depression):\tST segment depression in ECG\tHigher values may indicate ischemia (reduced blood flow to the heart).\n",
    "ca (Number of Major Vessels Colored by Fluoroscopy)\t0–3 :\tHigher values indicate blocked arteries, increasing heart disease risk.\n",
    "thal (Thalassemia) :\t0 = Normal, 1 = Fixed Defect, 2 = Reversible Defect\tBlood disorder that can affect oxygen transport and heart function.\n",
    "\n",
    "\"\"\"\n",
    "\n",
    "# Load the model\n",
    "with open(\"heart_model.pkl\", \"rb\") as file:\n",
    "    loaded_model = pickle.load(file)\n",
    "\n",
    "input_data = np.array([[1, 2, 0, 210, 0.7, 34, 192]])  \n",
    "\n",
    "# Make a prediction\n",
    "y_pred = loaded_model.predict(input_data)\n",
    "\n",
    "print(\"Predicted Output:\", y_pred)"
   ]
  },
  {
   "cell_type": "markdown",
   "metadata": {},
   "source": [
    "to Compute Old Peak using the ecg values"
   ]
  },
  {
   "cell_type": "markdown",
   "metadata": {},
   "source": [
    "If you use a 12-bit ADC (e.g., ESP32, STM32):\n",
    "\n",
    "The ADC range is 0 to 4095.\n",
    "Reference voltage (Vref) is typically 3.3V or 5V.\n",
    "The conversion formula:\n",
    "𝑉\n",
    "analog\n",
    "=\n",
    "(\n",
    "ADC Value\n",
    "×\n",
    "𝑉\n",
    "ref\n",
    "4095\n",
    ")\n",
    "V \n",
    "analog\n",
    "​\n",
    " =( \n",
    "4095\n",
    "ADC Value×V \n",
    "ref\n",
    "​\n",
    " \n",
    "​\n",
    " )\n",
    "Example: If ADC reads 2048 and Vref is 3.3V,\n",
    "𝑉\n",
    "analog\n",
    "=\n",
    "(\n",
    "2048\n",
    "×\n",
    "3.3\n",
    "𝑉\n",
    "4095\n",
    ")\n",
    "=\n",
    "1.65\n",
    "𝑉\n",
    "V \n",
    "analog\n",
    "​\n",
    " =( \n",
    "4095\n",
    "2048×3.3V\n",
    "​\n",
    " )=1.65V"
   ]
  },
  {
   "cell_type": "code",
   "execution_count": 16,
   "metadata": {
    "trusted": true
   },
   "outputs": [],
   "source": [
    "def predict_heart_disease(model, input_data):\n",
    "    input_data = np.array(input_data).reshape(1, -1)\n",
    "    if input_data.shape[1] != 7:\n",
    "        raise ValueError(\"Expected input with 7 features: [cp, thal, ca, chol, oldpeak, age, thalach]\")\n",
    "    return model.predict(input_data)[0]"
   ]
  },
  {
   "cell_type": "code",
   "execution_count": 17,
   "metadata": {},
   "outputs": [
    {
     "data": {
      "text/plain": [
       "['heart_model.joblib']"
      ]
     },
     "execution_count": 17,
     "metadata": {},
     "output_type": "execute_result"
    }
   ],
   "source": [
    "import joblib\n",
    "joblib.dump(dt_selected, \"heart_model.joblib\")"
   ]
  },
  {
   "cell_type": "code",
   "execution_count": 18,
   "metadata": {},
   "outputs": [],
   "source": [
    "model = joblib.load(\"heart_model.joblib\")"
   ]
  }
 ],
 "metadata": {
  "kaggle": {
   "accelerator": "none",
   "dataSources": [
    {
     "datasetId": 216167,
     "sourceId": 477177,
     "sourceType": "datasetVersion"
    }
   ],
   "dockerImageVersionId": 30626,
   "isGpuEnabled": false,
   "isInternetEnabled": true,
   "language": "python",
   "sourceType": "notebook"
  },
  "kernelspec": {
   "display_name": "base",
   "language": "python",
   "name": "python3"
  },
  "language_info": {
   "codemirror_mode": {
    "name": "ipython",
    "version": 3
   },
   "file_extension": ".py",
   "mimetype": "text/x-python",
   "name": "python",
   "nbconvert_exporter": "python",
   "pygments_lexer": "ipython3",
   "version": "3.12.7"
  }
 },
 "nbformat": 4,
 "nbformat_minor": 4
}
