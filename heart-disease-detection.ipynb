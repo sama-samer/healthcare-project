{
 "cells": [
  {
   "cell_type": "code",
   "execution_count": 1,
   "metadata": {
    "execution": {
     "iopub.execute_input": "2025-03-08T22:08:24.902191Z",
     "iopub.status.busy": "2025-03-08T22:08:24.901647Z",
     "iopub.status.idle": "2025-03-08T22:08:25.844077Z",
     "shell.execute_reply": "2025-03-08T22:08:25.843102Z",
     "shell.execute_reply.started": "2025-03-08T22:08:24.902154Z"
    },
    "trusted": true
   },
   "outputs": [],
   "source": [
    "import pandas as pd\n",
    "from sklearn.preprocessing import LabelEncoder\n",
    "from sklearn.model_selection import train_test_split\n",
    "from sklearn.svm import SVC\n",
    "from sklearn.metrics import accuracy_score\n",
    "import numpy as np\n",
    "import pandas as pd\n",
    "from sklearn.model_selection import train_test_split, cross_val_score, cross_val_predict\n",
    "from sklearn.impute import SimpleImputer\n",
    "from sklearn.tree import DecisionTreeClassifier\n",
    "from sklearn.metrics import classification_report\n"
   ]
  },
  {
   "cell_type": "code",
   "execution_count": null,
   "metadata": {
    "execution": {
     "iopub.execute_input": "2025-03-08T22:08:25.846183Z",
     "iopub.status.busy": "2025-03-08T22:08:25.845745Z",
     "iopub.status.idle": "2025-03-08T22:08:25.872865Z",
     "shell.execute_reply": "2025-03-08T22:08:25.872054Z",
     "shell.execute_reply.started": "2025-03-08T22:08:25.846155Z"
    },
    "trusted": true
   },
   "outputs": [
    {
     "name": "stdout",
     "output_type": "stream",
     "text": [
      "      age  sex  cp  trestbps  chol  fbs  restecg  thalach  exang  oldpeak  \\\n",
      "0      52    1   0       125   212    0        1      168      0      1.0   \n",
      "1      53    1   0       140   203    1        0      155      1      3.1   \n",
      "2      70    1   0       145   174    0        1      125      1      2.6   \n",
      "3      61    1   0       148   203    0        1      161      0      0.0   \n",
      "4      62    0   0       138   294    1        1      106      0      1.9   \n",
      "...   ...  ...  ..       ...   ...  ...      ...      ...    ...      ...   \n",
      "1020   59    1   1       140   221    0        1      164      1      0.0   \n",
      "1021   60    1   0       125   258    0        0      141      1      2.8   \n",
      "1022   47    1   0       110   275    0        0      118      1      1.0   \n",
      "1023   50    0   0       110   254    0        0      159      0      0.0   \n",
      "1024   54    1   0       120   188    0        1      113      0      1.4   \n",
      "\n",
      "      slope  ca  thal  target  \n",
      "0         2   2     3       0  \n",
      "1         0   0     3       0  \n",
      "2         0   0     3       0  \n",
      "3         2   1     3       0  \n",
      "4         1   3     2       0  \n",
      "...     ...  ..   ...     ...  \n",
      "1020      2   0     2       1  \n",
      "1021      1   1     3       0  \n",
      "1022      1   1     2       0  \n",
      "1023      2   0     2       1  \n",
      "1024      1   1     3       0  \n",
      "\n",
      "[1025 rows x 14 columns]\n"
     ]
    }
   ],
   "source": [
    "# Load the dataset\n",
    "from datasets import load_dataset\n",
    "\n",
    "# Login using e.g. `huggingface-cli login` to access this dataset\n",
    "data = load_dataset(\"marianeft/heart-diease-dataset\")\n",
    "print(data)"
   ]
  },
  {
   "cell_type": "code",
   "execution_count": 3,
   "metadata": {
    "execution": {
     "iopub.execute_input": "2025-03-08T22:08:25.874222Z",
     "iopub.status.busy": "2025-03-08T22:08:25.873919Z",
     "iopub.status.idle": "2025-03-08T22:08:25.895748Z",
     "shell.execute_reply": "2025-03-08T22:08:25.894858Z",
     "shell.execute_reply.started": "2025-03-08T22:08:25.874195Z"
    },
    "trusted": true
   },
   "outputs": [
    {
     "data": {
      "text/html": [
       "<div>\n",
       "<style scoped>\n",
       "    .dataframe tbody tr th:only-of-type {\n",
       "        vertical-align: middle;\n",
       "    }\n",
       "\n",
       "    .dataframe tbody tr th {\n",
       "        vertical-align: top;\n",
       "    }\n",
       "\n",
       "    .dataframe thead th {\n",
       "        text-align: right;\n",
       "    }\n",
       "</style>\n",
       "<table border=\"1\" class=\"dataframe\">\n",
       "  <thead>\n",
       "    <tr style=\"text-align: right;\">\n",
       "      <th></th>\n",
       "      <th>age</th>\n",
       "      <th>sex</th>\n",
       "      <th>cp</th>\n",
       "      <th>trestbps</th>\n",
       "      <th>chol</th>\n",
       "      <th>fbs</th>\n",
       "      <th>restecg</th>\n",
       "      <th>thalach</th>\n",
       "      <th>exang</th>\n",
       "      <th>oldpeak</th>\n",
       "      <th>slope</th>\n",
       "      <th>ca</th>\n",
       "      <th>thal</th>\n",
       "      <th>target</th>\n",
       "    </tr>\n",
       "  </thead>\n",
       "  <tbody>\n",
       "    <tr>\n",
       "      <th>0</th>\n",
       "      <td>52</td>\n",
       "      <td>1</td>\n",
       "      <td>0</td>\n",
       "      <td>125</td>\n",
       "      <td>212</td>\n",
       "      <td>0</td>\n",
       "      <td>1</td>\n",
       "      <td>168</td>\n",
       "      <td>0</td>\n",
       "      <td>1.0</td>\n",
       "      <td>2</td>\n",
       "      <td>2</td>\n",
       "      <td>3</td>\n",
       "      <td>0</td>\n",
       "    </tr>\n",
       "    <tr>\n",
       "      <th>1</th>\n",
       "      <td>53</td>\n",
       "      <td>1</td>\n",
       "      <td>0</td>\n",
       "      <td>140</td>\n",
       "      <td>203</td>\n",
       "      <td>1</td>\n",
       "      <td>0</td>\n",
       "      <td>155</td>\n",
       "      <td>1</td>\n",
       "      <td>3.1</td>\n",
       "      <td>0</td>\n",
       "      <td>0</td>\n",
       "      <td>3</td>\n",
       "      <td>0</td>\n",
       "    </tr>\n",
       "    <tr>\n",
       "      <th>2</th>\n",
       "      <td>70</td>\n",
       "      <td>1</td>\n",
       "      <td>0</td>\n",
       "      <td>145</td>\n",
       "      <td>174</td>\n",
       "      <td>0</td>\n",
       "      <td>1</td>\n",
       "      <td>125</td>\n",
       "      <td>1</td>\n",
       "      <td>2.6</td>\n",
       "      <td>0</td>\n",
       "      <td>0</td>\n",
       "      <td>3</td>\n",
       "      <td>0</td>\n",
       "    </tr>\n",
       "    <tr>\n",
       "      <th>3</th>\n",
       "      <td>61</td>\n",
       "      <td>1</td>\n",
       "      <td>0</td>\n",
       "      <td>148</td>\n",
       "      <td>203</td>\n",
       "      <td>0</td>\n",
       "      <td>1</td>\n",
       "      <td>161</td>\n",
       "      <td>0</td>\n",
       "      <td>0.0</td>\n",
       "      <td>2</td>\n",
       "      <td>1</td>\n",
       "      <td>3</td>\n",
       "      <td>0</td>\n",
       "    </tr>\n",
       "    <tr>\n",
       "      <th>4</th>\n",
       "      <td>62</td>\n",
       "      <td>0</td>\n",
       "      <td>0</td>\n",
       "      <td>138</td>\n",
       "      <td>294</td>\n",
       "      <td>1</td>\n",
       "      <td>1</td>\n",
       "      <td>106</td>\n",
       "      <td>0</td>\n",
       "      <td>1.9</td>\n",
       "      <td>1</td>\n",
       "      <td>3</td>\n",
       "      <td>2</td>\n",
       "      <td>0</td>\n",
       "    </tr>\n",
       "  </tbody>\n",
       "</table>\n",
       "</div>"
      ],
      "text/plain": [
       "   age  sex  cp  trestbps  chol  fbs  restecg  thalach  exang  oldpeak  slope  \\\n",
       "0   52    1   0       125   212    0        1      168      0      1.0      2   \n",
       "1   53    1   0       140   203    1        0      155      1      3.1      0   \n",
       "2   70    1   0       145   174    0        1      125      1      2.6      0   \n",
       "3   61    1   0       148   203    0        1      161      0      0.0      2   \n",
       "4   62    0   0       138   294    1        1      106      0      1.9      1   \n",
       "\n",
       "   ca  thal  target  \n",
       "0   2     3       0  \n",
       "1   0     3       0  \n",
       "2   0     3       0  \n",
       "3   1     3       0  \n",
       "4   3     2       0  "
      ]
     },
     "execution_count": 3,
     "metadata": {},
     "output_type": "execute_result"
    }
   ],
   "source": [
    "# Convert non-numeric data to numeric data\n",
    "le = LabelEncoder()\n",
    "data['sex'] = le.fit_transform(data['sex'])\n",
    "data['cp'] = le.fit_transform(data['cp'])\n",
    "data['fbs'] = le.fit_transform(data['fbs'])\n",
    "data['restecg'] = le.fit_transform(data['restecg'])\n",
    "data['exang'] = le.fit_transform(data['exang'])\n",
    "data['slope'] = le.fit_transform(data['slope'])\n",
    "data['thal'] = le.fit_transform(data['thal'])\n",
    "data.head()"
   ]
  },
  {
   "cell_type": "code",
   "execution_count": 4,
   "metadata": {
    "execution": {
     "iopub.execute_input": "2025-03-08T22:08:25.898970Z",
     "iopub.status.busy": "2025-03-08T22:08:25.898186Z",
     "iopub.status.idle": "2025-03-08T22:08:25.904624Z",
     "shell.execute_reply": "2025-03-08T22:08:25.903500Z",
     "shell.execute_reply.started": "2025-03-08T22:08:25.898938Z"
    },
    "trusted": true
   },
   "outputs": [],
   "source": [
    "X=data.drop(['target'], axis =1)\n",
    "y=data['target']"
   ]
  },
  {
   "cell_type": "code",
   "execution_count": 5,
   "metadata": {
    "execution": {
     "iopub.execute_input": "2025-03-08T22:08:25.906220Z",
     "iopub.status.busy": "2025-03-08T22:08:25.905831Z",
     "iopub.status.idle": "2025-03-08T22:08:25.974663Z",
     "shell.execute_reply": "2025-03-08T22:08:25.973664Z",
     "shell.execute_reply.started": "2025-03-08T22:08:25.906189Z"
    },
    "trusted": true
   },
   "outputs": [
    {
     "name": "stdout",
     "output_type": "stream",
     "text": [
      "Top 7 Selected Features: ['cp' 'thal' 'ca' 'chol' 'oldpeak' 'age' 'thalach']\n",
      "Cross-Validation Accuracy Scores: [0.98780488 0.9695122  0.98780488 0.98780488 0.93292683]\n",
      "Mean CV Accuracy with Top 7 Features: 0.9732\n",
      "Classification Report on Test Data:\n",
      "              precision    recall  f1-score   support\n",
      "\n",
      "           0       0.97      1.00      0.99       102\n",
      "           1       1.00      0.97      0.99       103\n",
      "\n",
      "    accuracy                           0.99       205\n",
      "   macro avg       0.99      0.99      0.99       205\n",
      "weighted avg       0.99      0.99      0.99       205\n",
      "\n"
     ]
    }
   ],
   "source": [
    "# Split the dataset into training and testing sets\n",
    "X_train, X_test, y_train, y_test = train_test_split(X, y, test_size=0.2, random_state=42)\n",
    "\n",
    "# Handle missing values\n",
    "imputer = SimpleImputer(strategy='mean')\n",
    "X_train = imputer.fit_transform(X_train)\n",
    "X_test = imputer.transform(X_test)\n",
    "\n",
    "# Train a Decision Tree to get feature importance\n",
    "dt = DecisionTreeClassifier(random_state=42)\n",
    "dt.fit(X_train, y_train)\n",
    "\n",
    "# Get feature importance scores\n",
    "feature_importances = dt.feature_importances_\n",
    "\n",
    "# Create a DataFrame to view importance rankings\n",
    "feature_names = X.columns  # Assuming X is a Pandas DataFrame\n",
    "feature_importance_df = pd.DataFrame({'Feature': feature_names, 'Importance': feature_importances})\n",
    "\n",
    "# Sort and select the top 7 features\n",
    "top_features = feature_importance_df.sort_values(by='Importance', ascending=False).head(7)['Feature'].values\n",
    "\n",
    "print(\"Top 7 Selected Features:\", top_features)\n",
    "\n",
    "# Keep only the selected features in training and testing sets\n",
    "X_train_selected = pd.DataFrame(X_train, columns=feature_names)[top_features]\n",
    "X_test_selected = pd.DataFrame(X_test, columns=feature_names)[top_features]\n",
    "\n",
    "# Retrain the model with selected features\n",
    "dt_selected = DecisionTreeClassifier(random_state=42)\n",
    "dt_selected.fit(X_train_selected, y_train)\n",
    "\n",
    "# Evaluate with cross-validation\n",
    "cv_scores = cross_val_score(dt_selected, X_train_selected, y_train, cv=5, scoring='accuracy')\n",
    "print(f\"Cross-Validation Accuracy Scores: {cv_scores}\")\n",
    "print(f\"Mean CV Accuracy with Top 7 Features: {cv_scores.mean():.4f}\")\n",
    "\n",
    "# Predict and print classification report\n",
    "y_pred = dt_selected.predict(X_test_selected)\n",
    "print(\"Classification Report on Test Data:\")\n",
    "print(classification_report(y_test, y_pred))"
   ]
  },
  {
   "cell_type": "code",
   "execution_count": 6,
   "metadata": {
    "execution": {
     "iopub.execute_input": "2025-03-08T22:08:25.976373Z",
     "iopub.status.busy": "2025-03-08T22:08:25.975953Z",
     "iopub.status.idle": "2025-03-08T22:08:25.982496Z",
     "shell.execute_reply": "2025-03-08T22:08:25.981496Z",
     "shell.execute_reply.started": "2025-03-08T22:08:25.976333Z"
    },
    "trusted": true
   },
   "outputs": [],
   "source": [
    "import pickle\n",
    "\n",
    "with open(\"heart_model.pkl\", \"wb\") as file:\n",
    "    pickle.dump(dt_selected, file)"
   ]
  },
  {
   "cell_type": "markdown",
   "metadata": {},
   "source": [
    "**How to use ?**"
   ]
  },
  {
   "cell_type": "code",
   "execution_count": null,
   "metadata": {
    "execution": {
     "iopub.execute_input": "2025-03-08T22:11:38.794118Z",
     "iopub.status.busy": "2025-03-08T22:11:38.793697Z",
     "iopub.status.idle": "2025-03-08T22:11:38.802724Z",
     "shell.execute_reply": "2025-03-08T22:11:38.801767Z",
     "shell.execute_reply.started": "2025-03-08T22:11:38.794080Z"
    },
    "trusted": true
   },
   "outputs": [
    {
     "name": "stdout",
     "output_type": "stream",
     "text": [
      "Predicted Output: [1]\n"
     ]
    },
    {
     "name": "stderr",
     "output_type": "stream",
     "text": [
      "C:\\Users\\ADMIN\\AppData\\Local\\Packages\\PythonSoftwareFoundation.Python.3.12_qbz5n2kfra8p0\\LocalCache\\local-packages\\Python312\\site-packages\\sklearn\\base.py:376: InconsistentVersionWarning: Trying to unpickle estimator DecisionTreeClassifier from version 1.6.1 when using version 1.5.2. This might lead to breaking code or invalid results. Use at your own risk. For more info please refer to:\n",
      "https://scikit-learn.org/stable/model_persistence.html#security-maintainability-limitations\n",
      "  warnings.warn(\n",
      "C:\\Users\\ADMIN\\AppData\\Local\\Packages\\PythonSoftwareFoundation.Python.3.12_qbz5n2kfra8p0\\LocalCache\\local-packages\\Python312\\site-packages\\sklearn\\base.py:493: UserWarning: X does not have valid feature names, but DecisionTreeClassifier was fitted with feature names\n",
      "  warnings.warn(\n"
     ]
    }
   ],
   "source": [
    "import pickle\n",
    "import numpy as np\n",
    "\n",
    "# ['cp' 'thal' 'ca' 'chol' 'oldpeak' 'age' 'thalach']\n",
    "\"\"\"\n",
    "age:\tAge of the patient (years)\tOlder individuals have a higher risk of heart disease.\n",
    "cp (Chest Pain Type):\t0 = Typical Angina, 1 = Atypical Angina, 2 = Non-anginal Pain, 3 = Asymptomatic\tCertain types of chest pain are strong indicators of heart problems.\n",
    "chol (Serum Cholesterol):\tCholesterol level in mg/dL\tHigh cholesterol can lead to plaque buildup in arteries, increasing heart disease risk.\n",
    "thalach (Maximum Heart Rate Achieved):\tMaximum recorded heart rate during stress testing\tA lower max heart rate could indicate heart disease.\n",
    "oldpeak (ST Depression):\tST segment depression in ECG\tHigher values may indicate ischemia (reduced blood flow to the heart).\n",
    "ca (Number of Major Vessels Colored by Fluoroscopy)\t0–3 :\tHigher values indicate blocked arteries, increasing heart disease risk.\n",
    "thal (Thalassemia) :\t0 = Normal, 1 = Fixed Defect, 2 = Reversible Defect\tBlood disorder that can affect oxygen transport and heart function.\n",
    "\n",
    "\"\"\"\n",
    "\n",
    "# Load the model\n",
    "with open(\"heart_model.pkl\", \"rb\") as file:\n",
    "    loaded_model = pickle.load(file)\n",
    "\n",
    "input_data = np.array([[1, 2, 0, 210, 0.7, 34, 192]])  \n",
    "\n",
    "# Make a prediction\n",
    "y_pred = loaded_model.predict(input_data)\n",
    "\n",
    "print(\"Predicted Output:\", y_pred)"
   ]
  },
  {
   "cell_type": "markdown",
   "metadata": {},
   "source": [
    "to Compute Old Peak using the ecg values"
   ]
  },
  {
   "cell_type": "markdown",
   "metadata": {},
   "source": [
    "If you use a 12-bit ADC (e.g., ESP32, STM32):\n",
    "\n",
    "The ADC range is 0 to 4095.\n",
    "Reference voltage (Vref) is typically 3.3V or 5V.\n",
    "The conversion formula:\n",
    "𝑉\n",
    "analog\n",
    "=\n",
    "(\n",
    "ADC Value\n",
    "×\n",
    "𝑉\n",
    "ref\n",
    "4095\n",
    ")\n",
    "V \n",
    "analog\n",
    "​\n",
    " =( \n",
    "4095\n",
    "ADC Value×V \n",
    "ref\n",
    "​\n",
    " \n",
    "​\n",
    " )\n",
    "Example: If ADC reads 2048 and Vref is 3.3V,\n",
    "𝑉\n",
    "analog\n",
    "=\n",
    "(\n",
    "2048\n",
    "×\n",
    "3.3\n",
    "𝑉\n",
    "4095\n",
    ")\n",
    "=\n",
    "1.65\n",
    "𝑉\n",
    "V \n",
    "analog\n",
    "​\n",
    " =( \n",
    "4095\n",
    "2048×3.3V\n",
    "​\n",
    " )=1.65V"
   ]
  },
  {
   "cell_type": "code",
   "execution_count": null,
   "metadata": {
    "trusted": true
   },
   "outputs": [],
   "source": []
  }
 ],
 "metadata": {
  "kaggle": {
   "accelerator": "none",
   "dataSources": [
    {
     "datasetId": 216167,
     "sourceId": 477177,
     "sourceType": "datasetVersion"
    }
   ],
   "dockerImageVersionId": 30626,
   "isGpuEnabled": false,
   "isInternetEnabled": true,
   "language": "python",
   "sourceType": "notebook"
  },
  "kernelspec": {
   "display_name": "Python 3",
   "language": "python",
   "name": "python3"
  },
  "language_info": {
   "codemirror_mode": {
    "name": "ipython",
    "version": 3
   },
   "file_extension": ".py",
   "mimetype": "text/x-python",
   "name": "python",
   "nbconvert_exporter": "python",
   "pygments_lexer": "ipython3",
   "version": "3.12.9"
  }
 },
 "nbformat": 4,
 "nbformat_minor": 4
}
